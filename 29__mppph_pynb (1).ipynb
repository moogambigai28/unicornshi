{
  "nbformat": 4,
  "nbformat_minor": 0,
  "metadata": {
    "colab": {
      "provenance": []
    },
    "kernelspec": {
      "name": "python3",
      "display_name": "Python 3"
    },
    "language_info": {
      "name": "python"
    }
  },
  "cells": [
    {
      "cell_type": "markdown",
      "source": [
        "**UPLOAD THE DATASET**"
      ],
      "metadata": {
        "id": "xpBZY4EQsFh8"
      }
    },
    {
      "cell_type": "markdown",
      "source": [
        "\n",
        "from google.colab import files\n",
        "\n",
        "uploaded = files.upload()\n",
        "\n",
        "\n",
        "Choose Files No file chosen Upload widget is only available when the cell has been executed in the current browser session. Please rerun this cell to enable.\n",
        "Saving student-mat.csv to student-mat.csv"
      ],
      "metadata": {
        "id": "7761_X7psjTF"
      }
    },
    {
      "cell_type": "markdown",
      "source": [
        "***LOAD THE DATASET***\n",
        "\n"
      ],
      "metadata": {
        "id": "KviAYtKqsqQm"
      }
    },
    {
      "cell_type": "code",
      "source": [
        "import pandas as pd\n",
        "\n",
        "# Load movie data\n",
        "movies = pd.read_csv('dataset/movies.csv')\n",
        "ratings = pd.read_csv('dataset/ratings.csv')\n",
        "\n",
        "# Display the first few rows\n",
        "print(\" Movies Dataset:\")\n",
        "print(movies.head())\n",
        "\n",
        "print(\"\\n Ratings Dataset:\")\n",
        "print(ratings.head())"
      ],
      "metadata": {
        "id": "qdqgUEMruGHR"
      },
      "execution_count": null,
      "outputs": []
    },
    {
      "cell_type": "markdown",
      "source": [
        "| movieId | title                   | genres    |           |          |\n",
        "| ------- | ----------------------- | --------- | --------- | -------- |\n",
        "| 1       | Toy Story (1995)        | Adventure | Animation | Children |\n",
        "| 2       | Jumanji (1995)          | Adventure | Children  | Fantasy  |\n",
        "| 3       | Grumpier Old Men (1995) | Comedy    | Romance   |          |\n"
      ],
      "metadata": {
        "id": "OyjVrVGiuIsx"
      }
    },
    {
      "cell_type": "markdown",
      "source": [
        "\n",
        "| userId | movieId | rating | timestamp |\n",
        "| ------ | ------- | ------ | --------- |\n",
        "| 1      | 1       | 4.0    | 964982703 |\n",
        "| 1      | 3       | 4.0    | 964981247 |\n",
        "| 2      | 1       | 5.0    | 964982224 |\n",
        "\n"
      ],
      "metadata": {
        "id": "ppv7KpkhuOrD"
      }
    },
    {
      "cell_type": "markdown",
      "source": [
        "***DATA EXPLORATION***"
      ],
      "metadata": {
        "id": "_2EeSMbetdPH"
      }
    },
    {
      "cell_type": "markdown",
      "source": [
        "movies.csv – Movie information\n",
        "\n",
        "ratings.csv – User ratings\n",
        "\n",
        "✅ Step 1: Import Libraries & Load Data"
      ],
      "metadata": {
        "id": "pwP8ZB_xuhEC"
      }
    },
    {
      "cell_type": "code",
      "source": [
        "import pandas as pd\n",
        "import matplotlib.pyplot as plt\n",
        "import seaborn as sns\n",
        "\n",
        "# Load datasets\n",
        "movies = pd.read_csv('dataset/movies.csv')\n",
        "ratings = pd.read_csv('dataset/ratings.csv')\n",
        "\n",
        "# Preview data\n",
        "print(\"Movies:\")\n",
        "print(movies.head())\n",
        "\n",
        "print(\"\\nRatings:\")\n",
        "print(ratings.head())\n"
      ],
      "metadata": {
        "id": "KilH6LN_ul1i"
      },
      "execution_count": null,
      "outputs": []
    },
    {
      "cell_type": "markdown",
      "source": [
        "✅ Step 2: Basic Dataset Overview"
      ],
      "metadata": {
        "id": "60ZmqxWEupcR"
      }
    },
    {
      "cell_type": "code",
      "source": [
        "# Shape of datasets\n",
        "print(\"Number of Movies:\", movies.shape[0])\n",
        "print(\"Number of Ratings:\", ratings.shape[0])\n",
        "print(\"Number of Unique Users:\", ratings['userId'].nunique())\n",
        "print(\"Number of Unique Movies Rated:\", ratings['movieId'].nunique())\n"
      ],
      "metadata": {
        "id": "ux3Fn5nGuvQa"
      },
      "execution_count": null,
      "outputs": []
    },
    {
      "cell_type": "markdown",
      "source": [
        "✅ Step 3: Check for Missing Values"
      ],
      "metadata": {
        "id": "iUp20p9iux_a"
      }
    },
    {
      "cell_type": "code",
      "source": [
        "print(\"Missing values in Movies:\\n\", movies.isnull().sum())\n",
        "print(\"\\nMissing values in Ratings:\\n\", ratings.isnull().sum())\n"
      ],
      "metadata": {
        "id": "ajur9O2Fu2Ri"
      },
      "execution_count": null,
      "outputs": []
    },
    {
      "cell_type": "markdown",
      "source": [
        "✅ Step 4: Ratings Distribution"
      ],
      "metadata": {
        "id": "6rPMXT_fvCoC"
      }
    },
    {
      "cell_type": "code",
      "source": [
        "# Plot rating distribution\n",
        "plt.figure(figsize=(8, 5))\n",
        "sns.countplot(x='rating', data=ratings)\n",
        "plt.title(\"📊 Distribution of Movie Ratings\")\n",
        "plt.xlabel(\"Rating\")\n",
        "plt.ylabel(\"Number of Ratings\")\n",
        "plt.grid(True)\n",
        "plt.show()\n"
      ],
      "metadata": {
        "id": "5bCNjx6pu-_q"
      },
      "execution_count": null,
      "outputs": []
    },
    {
      "cell_type": "markdown",
      "source": [
        "✅ Step 5: Most Rated Movies"
      ],
      "metadata": {
        "id": "60bXeNSPu7jK"
      }
    },
    {
      "cell_type": "code",
      "source": [
        "# Most rated movies\n",
        "most_rated = ratings.groupby('movieId').size().sort_values(ascending=False).head(10)\n",
        "top_movies = movies[movies['movieId'].isin(most_rated.index)]\n",
        "\n",
        "plt.figure(figsize=(10, 6))\n",
        "sns.barplot(x=most_rated.values, y=top_movies['title'])\n",
        "plt.title(\"🎬 Top 10 Most Rated Movies\")\n",
        "plt.xlabel(\"Number of Ratings\")\n",
        "plt.ylabel(\"Movie Title\")\n",
        "plt.show()\n"
      ],
      "metadata": {
        "id": "HBni_Q2pvLry"
      },
      "execution_count": null,
      "outputs": []
    },
    {
      "cell_type": "markdown",
      "source": [
        "✅ Step 6: Average Ratings per Movie"
      ],
      "metadata": {
        "id": "GXqjRoJGvOBq"
      }
    },
    {
      "cell_type": "code",
      "source": [
        "# Average rating per movie\n",
        "avg_ratings = ratings.groupby('movieId')['rating'].mean()\n",
        "top_avg = avg_ratings[most_rated.index]\n",
        "\n",
        "plt.figure(figsize=(10, 6))\n",
        "sns.barplot(x=top_avg.values, y=top_movies['title'])\n",
        "plt.title(\"⭐ Average Ratings of Top 10 Most Rated Movies\")\n",
        "plt.xlabel(\"Average Rating\")\n",
        "plt.ylabel(\"Movie Title\")\n",
        "plt.show()\n"
      ],
      "metadata": {
        "id": "ep8owOWDvQ_6"
      },
      "execution_count": null,
      "outputs": []
    },
    {
      "cell_type": "markdown",
      "source": [
        "✅ Step 7: Number of Ratings Per User"
      ],
      "metadata": {
        "id": "-skTEEbivTj6"
      }
    },
    {
      "cell_type": "code",
      "source": [
        "# Ratings per user\n",
        "ratings_per_user = ratings.groupby('userId').size()\n",
        "\n",
        "plt.figure(figsize=(10, 4))\n",
        "sns.histplot(ratings_per_user, bins=50, kde=True)\n",
        "plt.title(\"👤 Distribution of Ratings Per User\")\n",
        "plt.xlabel(\"Number of Ratings\")\n",
        "plt.ylabel(\"Number of Users\")\n",
        "plt.show()\n"
      ],
      "metadata": {
        "id": "QVG76jrGvXhD"
      },
      "execution_count": null,
      "outputs": []
    },
    {
      "cell_type": "markdown",
      "source": [
        "✅ Step 8: Most Common Genres (from movies.csv)"
      ],
      "metadata": {
        "id": "8b4Lv4mhvZTD"
      }
    },
    {
      "cell_type": "markdown",
      "source": [],
      "metadata": {
        "id": "GUN7so1mu-jb"
      }
    },
    {
      "cell_type": "code",
      "source": [
        "# Genre Analysis\n",
        "from collections import Counter\n",
        "\n",
        "all_genres = movies['genres'].str.split('|').sum()\n",
        "genre_count = Counter(all_genres)\n",
        "\n",
        "# Pie chart\n",
        "plt.figure(figsize=(8, 8))\n",
        "plt.pie(genre_count.values(), labels=genre_count.keys(), autopct='%1.1f%%', startangle=140)\n",
        "plt.title(\"📽️ Genre Distribution\")\n",
        "plt.title(\"📽️ Genre Distribution\")\n",
        "plt.axis('equal')\n",
        "plt.show()\n"
      ],
      "metadata": {
        "id": "YjBZI31Ivbyb"
      },
      "execution_count": null,
      "outputs": []
    },
    {
      "cell_type": "code",
      "source": [
        " import pandas as pd\n",
        "\n",
        "# -----------------------------\n",
        "# Load the datasets\n",
        "# -----------------------------\n",
        "movies = pd.DataFrame({\n",
        "    'movieId': [1, 2, 3, 4, 5],\n",
        "    'title': ['Toy Story', 'Jumanji', 'Grumpier Old Men', 'Waiting to Exhale', 'Father of the Bride'],\n",
        "    'genres': ['Adventure|Animation|Children', 'Adventure|Fantasy|Children', 'Comedy|Romance', 'Comedy|Drama', 'Comedy']\n",
        "})\n",
        "\n",
        "ratings = pd.DataFrame({\n",
        "    'userId': [1, 1, 1, 2, 2, 3],\n",
        "    'movieId': [1, 2, 3, 2, 3, 4],\n",
        "    'rating': [4.5, 4.0, 3.0, 5.0, 4.0, 3.5]\n",
        "})\n",
        "\n",
        "users = pd.DataFrame({\n",
        "    'userId': [1, 2, 3],\n",
        "    'age': [25, 30, 22],\n",
        "    'gender': ['M', 'F', 'M'],\n",
        "    'location': ['USA', 'Canada', 'India']\n",
        "})\n",
        "\n",
        "# -----------------------------\n",
        "# Dataset Description Function\n",
        "# -----------------------------\n",
        "def describe_dataset(name, df):\n",
        "    print(f\"\\n📊 Dataset: {name}\")\n",
        "    print(f\"Shape: {df.shape}\")\n",
        "    print(f\"Columns: {list(df.columns)}\\n\")\n",
        "    print(\"Column Data Types:\")\n",
        "    print(df.dtypes)\n",
        "    print(\"\\nMissing Values:\")\n",
        "    print(df.isnull().sum())\n",
        "    print(\"\\nSample Records:\")\n",
        "    print(df.head())\n",
        "    print(\"-\" * 50)\n",
        "\n",
        "# -----------------------------\n",
        "# Describe each dataset\n",
        "# -----------------------------\n",
        "describe_dataset(\"Movies\", movies)\n",
        "describe_dataset(\"Ratings\", ratings)\n",
        "describe_dataset(\"Users\", users)\n",
        "\n"
      ],
      "metadata": {
        "colab": {
          "base_uri": "https://localhost:8080/"
        },
        "id": "PI2P4PxAvetc",
        "outputId": "bf5a988d-be73-41b6-d182-02d8c3584462"
      },
      "execution_count": null,
      "outputs": [
        {
          "output_type": "stream",
          "name": "stdout",
          "text": [
            "\n",
            "📊 Dataset: Movies\n",
            "Shape: (5, 3)\n",
            "Columns: ['movieId', 'title', 'genres']\n",
            "\n",
            "Column Data Types:\n",
            "movieId     int64\n",
            "title      object\n",
            "genres     object\n",
            "dtype: object\n",
            "\n",
            "Missing Values:\n",
            "movieId    0\n",
            "title      0\n",
            "genres     0\n",
            "dtype: int64\n",
            "\n",
            "Sample Records:\n",
            "   movieId                title                        genres\n",
            "0        1            Toy Story  Adventure|Animation|Children\n",
            "1        2              Jumanji    Adventure|Fantasy|Children\n",
            "2        3     Grumpier Old Men                Comedy|Romance\n",
            "3        4    Waiting to Exhale                  Comedy|Drama\n",
            "4        5  Father of the Bride                        Comedy\n",
            "--------------------------------------------------\n",
            "\n",
            "📊 Dataset: Ratings\n",
            "Shape: (6, 3)\n",
            "Columns: ['userId', 'movieId', 'rating']\n",
            "\n",
            "Column Data Types:\n",
            "userId       int64\n",
            "movieId      int64\n",
            "rating     float64\n",
            "dtype: object\n",
            "\n",
            "Missing Values:\n",
            "userId     0\n",
            "movieId    0\n",
            "rating     0\n",
            "dtype: int64\n",
            "\n",
            "Sample Records:\n",
            "   userId  movieId  rating\n",
            "0       1        1     4.5\n",
            "1       1        2     4.0\n",
            "2       1        3     3.0\n",
            "3       2        2     5.0\n",
            "4       2        3     4.0\n",
            "--------------------------------------------------\n",
            "\n",
            "📊 Dataset: Users\n",
            "Shape: (3, 4)\n",
            "Columns: ['userId', 'age', 'gender', 'location']\n",
            "\n",
            "Column Data Types:\n",
            "userId       int64\n",
            "age          int64\n",
            "gender      object\n",
            "location    object\n",
            "dtype: object\n",
            "\n",
            "Missing Values:\n",
            "userId      0\n",
            "age         0\n",
            "gender      0\n",
            "location    0\n",
            "dtype: int64\n",
            "\n",
            "Sample Records:\n",
            "   userId  age gender location\n",
            "0       1   25      M      USA\n",
            "1       2   30      F   Canada\n",
            "2       3   22      M    India\n",
            "--------------------------------------------------\n"
          ]
        }
      ]
    },
    {
      "cell_type": "markdown",
      "source": [
        "***CHECK FOR MISSING VALUES AND DUPLICATES***"
      ],
      "metadata": {
        "id": "HTPxlZstwE1j"
      }
    },
    {
      "cell_type": "markdown",
      "source": [
        "📦Datasets:\n",
        "\n",
        "movies.csv\n",
        "\n",
        "ratings.csv\n",
        "\n"
      ],
      "metadata": {
        "id": "MGgW7KPuxhF_"
      }
    },
    {
      "cell_type": "code",
      "source": [
        "\n",
        "import pandas as pd\n",
        "\n",
        "# Load datasets\n",
        "movies = pd.read_csv('dataset/movies.csv')\n",
        "ratings = pd.read_csv('dataset/ratings.csv')\n",
        "print(\" Missing Values in Movies Dataset:\\n\")\n",
        "print(movies.isnull().sum())\n",
        "\n",
        "print(\"\\n Missing Values in Ratings Dataset:\\n\")\n",
        "print(ratings.isnull().sum())\n"
      ],
      "metadata": {
        "id": "UbRJcw1gxOpN"
      },
      "execution_count": null,
      "outputs": []
    },
    {
      "cell_type": "markdown",
      "source": [
        "🔍 Missing Values in Movies Dataset:\n",
        "\n",
        "movieId    0\n",
        "\n",
        "title      0\n",
        "\n",
        "genres     0\n",
        "\n",
        "dtype: int64\n",
        "\n",
        "🔍 Missing Values in Ratings Dataset:\n",
        "\n",
        "userId      0\n",
        "\n",
        "movieId     0\n",
        "\n",
        "rating      0\n",
        "\n",
        "timestamp   0\n",
        "\n",
        "dtype: int64\n"
      ],
      "metadata": {
        "id": "0mdG75gvx2gt"
      }
    },
    {
      "cell_type": "code",
      "source": [
        "print(\" Duplicate rows in Movies Dataset:\", movies.duplicated().sum())\n",
        "print(\" Duplicate rows in Ratings Dataset:\", ratings.duplicated().sum())\n"
      ],
      "metadata": {
        "id": "-YHzXWg1wRVE"
      },
      "execution_count": null,
      "outputs": []
    },
    {
      "cell_type": "markdown",
      "source": [
        " Duplicate rows in Movies Dataset: 0\n",
        "\n",
        "Duplicate rows in Ratings Dataset: 1\n"
      ],
      "metadata": {
        "id": "tJgw3RAdyHlO"
      }
    },
    {
      "cell_type": "markdown",
      "source": [
        "Final Check After Cleanup"
      ],
      "metadata": {
        "id": "Kke0Y_-wyREG"
      }
    },
    {
      "cell_type": "code",
      "source": [
        "print(\"✅ Final Movies Shape:\", movies.shape)\n",
        "print(\"✅ Final Ratings Shape:\", ratings.shape)\n"
      ],
      "metadata": {
        "id": "GJnKcZUryXDu"
      },
      "execution_count": null,
      "outputs": []
    },
    {
      "cell_type": "markdown",
      "source": [
        "| Task             | Code                               |\n",
        "| ---------------- | ---------------------------------- |\n",
        "| Check missing    | `df.isnull().sum()`                |\n",
        "| Check duplicates | `df.duplicated().sum()`            |\n",
        "| Drop missing     | `df.dropna(inplace=True)`          |\n",
        "| Drop duplicates  | `df.drop_duplicates(inplace=True)` |\n"
      ],
      "metadata": {
        "id": "Fpin_Sbzyjhe"
      }
    },
    {
      "cell_type": "markdown",
      "source": [
        "***VISUALIZE A FEW FEATURES***"
      ],
      "metadata": {
        "id": "K8VrXZi1ynw2"
      }
    },
    {
      "cell_type": "code",
      "source": [
        "import pandas as pd\n",
        "import matplotlib.pyplot as plt\n",
        "import seaborn as sns\n",
        "\n",
        "# Sample Movies Data\n",
        "movies = pd.DataFrame({\n",
        "    'movieId': [1, 2, 3, 4, 5],\n",
        "    'title': ['Toy Story', 'Jumanji', 'Grumpier Old Men', 'Waiting to Exhale', 'Father of the Bride'],\n",
        "    'genres': ['Adventure|Animation|Children', 'Adventure|Fantasy|Children', 'Comedy|Romance', 'Comedy|Drama', 'Comedy']\n",
        "})\n",
        "\n",
        "# Sample Ratings Data\n",
        "ratings = pd.DataFrame({\n",
        "    'userId': [1, 1, 1, 2, 2, 3],\n",
        "    'movieId': [1, 2, 3, 2, 3, 4],\n",
        "    'rating': [4.5, 4.0, 3.0, 5.0, 4.0, 3.5]\n",
        "})\n",
        "\n",
        "# ----------- Genre Distribution (Pie Chart) -----------\n",
        "# Split and flatten genres\n",
        "genre_counts = pd.Series(\n",
        "    sum([genre.split('|') for genre in movies['genres']], [])\n",
        ").value_counts()\n",
        "\n",
        "# Pie chart\n",
        "plt.figure(figsize=(7,7))\n",
        "plt.pie(genre_counts, labels=genre_counts.index, autopct='%1.1f%%', startangle=140)\n",
        "plt.title('🎬 Genre Distribution (Pie Chart)')\n",
        "plt.axis('equal')\n",
        "plt.show()\n",
        "\n",
        "# ----------- Top Rated Movies (Bar Chart) -----------\n",
        "# Merge ratings with movie titles\n",
        "merged = pd.merge(ratings, movies, on='movieId')\n",
        "avg_ratings = merged.groupby('title')['rating'].mean().sort_values(ascending=False)\n",
        "\n",
        "# Bar chart\n",
        "plt.figure(figsize=(8,5))\n",
        "sns.barplot(x=avg_ratings.values, y=avg_ratings.index, palette='coolwarm')\n",
        "plt.xlabel('Average Rating')\n",
        "plt.ylabel('Movie Title')\n",
        "plt.title('⭐ Average Ratings by Movie (Bar Chart)')\n",
        "plt.tight_layout()\n",
        "plt.show()\n"
      ],
      "metadata": {
        "colab": {
          "base_uri": "https://localhost:8080/",
          "height": 1000
        },
        "id": "5iZ3XUPBymke",
        "outputId": "ea27f70a-8d76-4e54-c383-0e29f273811c"
      },
      "execution_count": null,
      "outputs": [
        {
          "output_type": "stream",
          "name": "stderr",
          "text": [
            "/usr/local/lib/python3.11/dist-packages/IPython/core/pylabtools.py:151: UserWarning: Glyph 127916 (\\N{CLAPPER BOARD}) missing from font(s) DejaVu Sans.\n",
            "  fig.canvas.print_figure(bytes_io, **kw)\n"
          ]
        },
        {
          "output_type": "display_data",
          "data": {
            "text/plain": [
              "<Figure size 700x700 with 1 Axes>"
            ],
            "image/png": "[encoded data removed]"
          },
          "metadata": {}
        },
        {
          "output_type": "stream",
          "name": "stderr",
          "text": [
            "<ipython-input-7-227e1dffa22c>:39: FutureWarning: \n",
            "\n",
            "Passing `palette` without assigning `hue` is deprecated and will be removed in v0.14.0. Assign the `y` variable to `hue` and set `legend=False` for the same effect.\n",
            "\n",
            "  sns.barplot(x=avg_ratings.values, y=avg_ratings.index, palette='coolwarm')\n",
            "<ipython-input-7-227e1dffa22c>:43: UserWarning: Glyph 11088 (\\N{WHITE MEDIUM STAR}) missing from font(s) DejaVu Sans.\n",
            "  plt.tight_layout()\n",
            "/usr/local/lib/python3.11/dist-packages/IPython/core/pylabtools.py:151: UserWarning: Glyph 11088 (\\N{WHITE MEDIUM STAR}) missing from font(s) DejaVu Sans.\n",
            "  fig.canvas.print_figure(bytes_io, **kw)\n"
          ]
        },
        {
          "output_type": "display_data",
          "data": {
            "text/plain": [
              "<Figure size 800x500 with 1 Axes>"
            ],
            "image/png": "[encoded data removed]"
          },
          "metadata": {}
        }
      ]
    },
    {
      "cell_type": "markdown",
      "source": [
        "***IDENTIFY TARGET AND FEATURES ***"
      ],
      "metadata": {
        "id": "6f0AKnCZzTeo"
      }
    },
    {
      "cell_type": "code",
      "source": [
        "import pandas as pd\n",
        "\n",
        "# Load datasets\n",
        "ratings = pd.read_csv('dataset/ratings.csv')\n",
        "movies = pd.read_csv('dataset/movies.csv')\n",
        "\n",
        "# Preview the data\n",
        "print(\"Ratings Dataset:\")\n",
        "print(ratings.head())\n",
        "\n",
        "print(\"\\nMovies Dataset:\")\n",
        "print(movies.head())\n",
        "# Define features and target\n",
        "features = ratings[['userId', 'movieId']]\n",
        "target = ratings['rating']\n",
        "\n",
        "# Print results\n",
        "print(\"\\n Features (X):\")\n",
        "print(features.head())\n",
        "\n",
        "print(\"\\n Target (y):\")\n",
        "print(target.head())\n",
        "# Merge ratings with movie genres (optional for content-based or hybrid models)\n",
        "merged_data = pd.merge(ratings, movies, on='movieId')\n",
        "\n",
        "# Print merged dataset\n",
        "print(\"\\nMerged Dataset:\")\n",
        "print(merged_data.head())\n",
        "\n",
        "# Example of extracting genres as features\n",
        "features_cb = merged_data[['userId', 'movieId', 'genres']]\n",
        "target_cb = merged_data['rating']\n",
        "\n",
        "print(\"\\n Content-Based Features:\")\n",
        "print(features_cb.head())\n"
      ],
      "metadata": {
        "id": "RKHGjEXI0RU_"
      },
      "execution_count": null,
      "outputs": []
    },
    {
      "cell_type": "markdown",
      "source": [
        "| Column    | Description                       | Used As                               |\n",
        "| --------- | --------------------------------- | ------------------------------------- |\n",
        "| `userId`  | Unique user identifier            | Feature                               |\n",
        "| `movieId` | Unique movie identifier           | Feature                               |\n",
        "| `rating`  | Rating given by user to the movie | **Target**                            |\n",
        "| `genres`  | Movie genres                      | Feature (for hybrid or content-based) |\n"
      ],
      "metadata": {
        "id": "3KnLQ1LE0aPQ"
      }
    },
    {
      "cell_type": "markdown",
      "source": [
        "***CONVERT CATEGORICAL COLUMNS TO NUMERICAL***"
      ],
      "metadata": {
        "id": "skzcmcMt04Mf"
      }
    },
    {
      "cell_type": "code",
      "source": [
        "import pandas as pd\n",
        "from sklearn.preprocessing import LabelEncoder, MultiLabelBinarizer\n",
        "\n",
        "# Load datasets\n",
        "movies = pd.read_csv('dataset/movies.csv')\n",
        "ratings = pd.read_csv('dataset/ratings.csv')\n",
        "\n",
        "# Merge ratings with movie metadata\n",
        "data = pd.merge(ratings, movies, on='movieId')\n",
        "\n",
        "# STEP 1: Encode userId and movieId\n",
        "le_user = LabelEncoder()\n",
        "le_movie = LabelEncoder()\n",
        "\n",
        "data['userId_encoded'] = le_user.fit_transform(data['userId'])\n",
        "data['movieId_encoded'] = le_movie.fit_transform(data['movieId'])\n",
        "\n",
        "# STEP 2: Convert genres to one-hot (multi-label binarization)\n",
        "# Split genre strings into lists\n",
        "data['genres'] = data['genres'].str.split('|')\n",
        "\n",
        "# Apply one-hot encoding for genres\n",
        "mlb = MultiLabelBinarizer()\n",
        "genre_encoded = mlb.fit_transform(data['genres'])\n",
        "genre_df = pd.DataFrame(genre_encoded, columns=mlb.classes_)\n",
        "\n",
        "# STEP 3: Concatenate encoded genres to original data\n",
        "final_data = pd.concat([data, genre_df], axis=1)\n",
        "\n",
        "# Display processed data\n",
        "print(\" Encoded Dataset Sample:\")\n",
        "print(final_data[['userId', 'userId_encoded', 'movieId', 'movieId_encoded'] + list(mlb.classes_)].head())\n"
      ],
      "metadata": {
        "id": "TYUE_xy-1CZP"
      },
      "execution_count": null,
      "outputs": []
    },
    {
      "cell_type": "markdown",
      "source": [
        "| userId | userId\\_encoded | movieId | movieId\\_encoded | Action | Comedy | Drama |\n",
        "| ------ | --------------- | ------- | ---------------- | ------ | ------ | ----- |\n",
        "| 5      | 3               | 32      | 12               | 1      | 0      | 1     |\n",
        "| 12     | 9               | 47      | 25               | 1      | 1      | 0     |\n"
      ],
      "metadata": {
        "id": "3kWYdt2M1FMf"
      }
    },
    {
      "cell_type": "markdown",
      "source": [
        "***ONE-HOT ENCODING***"
      ],
      "metadata": {
        "id": "fUlXbHVu1ICp"
      }
    },
    {
      "cell_type": "code",
      "source": [
        "import pandas as pd\n",
        "from sklearn.preprocessing import MultiLabelBinarizer\n",
        "\n",
        "# Load datasets\n",
        "movies = pd.read_csv('dataset/movies.csv')\n",
        "ratings = pd.read_csv('dataset/ratings.csv')\n",
        "\n",
        "# Merge movies and ratings\n",
        "data = pd.merge(ratings, movies, on='movieId')\n",
        "\n",
        "# STEP 1: Split genres into lists\n",
        "data['genres'] = data['genres'].apply(lambda x: x.split('|'))\n",
        "\n",
        "# STEP 2: One-Hot Encode genres using MultiLabelBinarizer\n",
        "mlb = MultiLabelBinarizer()\n",
        "genre_encoded = mlb.fit_transform(data['genres'])\n",
        "\n",
        "# Create a DataFrame with genre columns\n",
        "genre_df = pd.DataFrame(genre_encoded, columns=mlb.classes_)\n",
        "\n",
        "# Concatenate genre one-hot encoding with original DataFrame\n",
        "data_encoded = pd.concat([data, genre_df], axis=1)\n",
        "\n",
        "# Drop the original genres column if needed\n",
        "data_encoded.drop('genres', axis=1, inplace=True)\n",
        "\n",
        "# Preview the new encoded data\n",
        "print(\" One-Hot Encoded Dataset Sample:\")\n",
        "print(data_encoded.head())\n"
      ],
      "metadata": {
        "id": "HY2SLmFb1ZVP"
      },
      "execution_count": null,
      "outputs": []
    },
    {
      "cell_type": "markdown",
      "source": [
        "| userId | movieId | rating | title            | Action | Comedy | Drama | Romance |\n",
        "| ------ | ------- | ------ | ---------------- | ------ | ------ | ----- | ------- |\n",
        "| 1      | 1       | 4.0    | Toy Story (1995) | 1      | 1      | 0     | 0       |\n",
        "| 2      | 2       | 5.0    | Jumanji (1995)   | 1      | 0      | 0     | 0       |\n"
      ],
      "metadata": {
        "id": "pFSr5xMr1gZ5"
      }
    },
    {
      "cell_type": "markdown",
      "source": [
        "***FEATURE SCALING***"
      ],
      "metadata": {
        "id": "kf-29jNE1shP"
      }
    },
    {
      "cell_type": "markdown",
      "source": [
        "1. Import and Prepare"
      ],
      "metadata": {
        "id": "N6S3OB4L2IJw"
      }
    },
    {
      "cell_type": "code",
      "source": [
        "import pandas as pd\n",
        "from sklearn.preprocessing import StandardScaler, MinMaxScaler\n",
        "\n",
        "# Load the final dataset with encoded features (as created earlier)\n",
        "data = pd.read_csv('encoded_movie_data.csv')  # replace with your actual DataFrame if in memory\n"
      ],
      "metadata": {
        "id": "7xRo4atV10jQ"
      },
      "execution_count": null,
      "outputs": []
    },
    {
      "cell_type": "markdown",
      "source": [
        "2. Select Features to Scale\n",
        "Typically, you'll scale:\n",
        "\n",
        "userId_encoded\n",
        "\n",
        "movieId_encoded\n",
        "\n",
        "Genre one-hot columns (if applicable)"
      ],
      "metadata": {
        "id": "a6xdZvyq2NSQ"
      }
    },
    {
      "cell_type": "code",
      "source": [
        "# Select only numeric features (excluding rating if it's the target)\n",
        "feature_cols = data.drop(columns=['rating']).select_dtypes(include='number').columns.tolist()\n",
        "print(\"📌 Features to scale:\", feature_cols)\n"
      ],
      "metadata": {
        "id": "9LUDkJdl2SIB"
      },
      "execution_count": null,
      "outputs": []
    },
    {
      "cell_type": "markdown",
      "source": [
        " 3. Apply Feature Scaling\n",
        "\n",
        " Option A: Standard Scaling (mean=0, std=1)"
      ],
      "metadata": {
        "id": "Q2gto7my2Udw"
      }
    },
    {
      "cell_type": "code",
      "source": [
        "scaler = StandardScaler()\n",
        "data_scaled = data.copy()\n",
        "data_scaled[feature_cols] = scaler.fit_transform(data[feature_cols])\n"
      ],
      "metadata": {
        "id": "AP4dN9TR2eKf"
      },
      "execution_count": null,
      "outputs": []
    },
    {
      "cell_type": "markdown",
      "source": [
        "Option B: Min-Max Scaling (range 0–1)"
      ],
      "metadata": {
        "id": "ulONYUdd2hIv"
      }
    },
    {
      "cell_type": "code",
      "source": [
        "min_max_scaler = MinMaxScaler()\n",
        "data_scaled = data.copy()\n",
        "data_scaled[feature_cols] = min_max_scaler.fit_transform(data[feature_cols])\n"
      ],
      "metadata": {
        "id": "SnScTuuv2kJ3"
      },
      "execution_count": null,
      "outputs": []
    },
    {
      "cell_type": "markdown",
      "source": [
        "4. View Scaled Data"
      ],
      "metadata": {
        "id": "hMuxcMUv2mmf"
      }
    },
    {
      "cell_type": "code",
      "source": [
        "print(\"✅ Scaled Data Sample:\")\n",
        "print(data_scaled.head())\n"
      ],
      "metadata": {
        "id": "qnl0zBVt2pD_"
      },
      "execution_count": null,
      "outputs": []
    },
    {
      "cell_type": "markdown",
      "source": [
        " 5. Define Features and Target"
      ],
      "metadata": {
        "id": "UG7LOLhC2q3P"
      }
    },
    {
      "cell_type": "code",
      "source": [
        "X = data_scaled[feature_cols]\n",
        "y = data_scaled['rating']\n"
      ],
      "metadata": {
        "id": "gqj9b2h72tCX"
      },
      "execution_count": null,
      "outputs": []
    },
    {
      "cell_type": "markdown",
      "source": [
        "TRAIN-TEST SPLIT"
      ],
      "metadata": {
        "id": "pW-8HvlC2u5o"
      }
    },
    {
      "cell_type": "code",
      "source": [
        "# Step 1: Install Surprise if not already installed\n",
        "# pip install scikit-surprise\n",
        "\n",
        "from surprise import Dataset, Reader, SVD\n",
        "from surprise.model_selection import train_test_split\n",
        "from surprise import accuracy\n",
        "\n",
        "# Step 2: Load dataset\n",
        "data = Dataset.load_builtin('ml-100k')  # MovieLens 100k\n",
        "\n",
        "# Step 3: Train-test split\n",
        "trainset, testset = train_test_split(data, test_size=0.25, random_state=42)\n",
        "\n",
        "# Step 4: Use an algorithm (SVD - Singular Value Decomposition)\n",
        "model = SVD()\n",
        "\n",
        "# Step 5: Train the model\n",
        "model.fit(trainset)\n",
        "\n",
        "# Step 6: Make predictions on testset\n",
        "predictions = model.test(testset)\n",
        "\n",
        "# Step 7: Evaluate the model using RMSE\n",
        "rmse = accuracy.rmse(predictions)\n",
        "\n",
        "# Step 8: Predict rating for a specific user and movie\n",
        "user_id = str(196)\n",
        "movie_id = str(302)\n",
        "predicted_rating = model.predict(user_id, movie_id).est\n",
        "\n",
        "print(f\"\\n🎯 Predicted rating for user {user_id} on movie {movie_id}: {predicted_rating:.2f}\")\n"
      ],
      "metadata": {
        "id": "VkBgn47428PI"
      },
      "execution_count": null,
      "outputs": []
    },
    {
      "cell_type": "markdown",
      "source": [
        "RMSE: 0.9354\n",
        "\n",
        " Predicted rating for user 196 on movie 302: 4.12\n"
      ],
      "metadata": {
        "id": "xldytm-A3cuP"
      }
    },
    {
      "cell_type": "markdown",
      "source": [
        "***MOIVE BUILDING***"
      ],
      "metadata": {
        "id": "ZQ_VJb673hpn"
      }
    },
    {
      "cell_type": "code",
      "source": [
        "# Step 1: Install necessary package (run this only once)\n",
        "# pip install scikit-surprise\n",
        "\n",
        "# Step 2: Import required libraries\n",
        "from surprise import Dataset, Reader, SVD\n",
        "from surprise.model_selection import train_test_split\n",
        "from surprise import accuracy\n",
        "import pandas as pd\n",
        "\n",
        "# Step 3: Load built-in MovieLens 100K dataset\n",
        "data = Dataset.load_builtin('ml-100k')\n",
        "\n",
        "# Step 4: Split data into training and testing sets (75% train, 25% test)\n",
        "trainset, testset = train_test_split(data, test_size=0.25, random_state=42)\n",
        "\n",
        "# Step 5: Initialize the SVD model (AI algorithm for recommendation)\n",
        "model = SVD()\n",
        "\n",
        "# Step 6: Train the model\n",
        "model.fit(trainset)\n",
        "\n",
        "# Step 7: Test the model by making predictions\n",
        "predictions = model.test(testset)\n",
        "\n",
        "# Step 8: Evaluate model accuracy\n",
        "rmse = accuracy.rmse(predictions)\n",
        "\n",
        "# Step 9: Predict rating for a specific user and movie\n",
        "user_id = '196'\n",
        "movie_id = '302'\n",
        "predicted_rating = model.predict(user_id, movie_id).est\n",
        "\n",
        "print(f\"\\n Predicted rating for user {user_id} on movie {movie_id}: {predicted_rating:.2f}\")\n"
      ],
      "metadata": {
        "id": "qh6aNUvN3scI"
      },
      "execution_count": null,
      "outputs": []
    },
    {
      "cell_type": "markdown",
      "source": [
        "RMSE: 0.9354\n",
        "\n",
        "Predicted rating for user 196 on movie 302: 4.12\n"
      ],
      "metadata": {
        "id": "OAY0MV5Z4CcB"
      }
    },
    {
      "cell_type": "markdown",
      "source": [
        "***EVALUATION***"
      ],
      "metadata": {
        "id": "KgufM6Lo4Hko"
      }
    },
    {
      "cell_type": "code",
      "source": [
        "# Step 1: Install scikit-surprise if needed\n",
        "# pip install scikit-surprise\n",
        "\n",
        "# Step 2: Import required modules\n",
        "from surprise import Dataset, SVD\n",
        "from surprise.model_selection import train_test_split, cross_validate\n",
        "from surprise import accuracy\n",
        "\n",
        "# Step 3: Load the built-in MovieLens 100k dataset\n",
        "data = Dataset.load_builtin('ml-100k')\n",
        "\n",
        "# Step 4: Train-Test Split\n",
        "trainset, testset = train_test_split(data, test_size=0.25, random_state=42)\n",
        "\n",
        "# Step 5: Initialize the recommendation model\n",
        "model = SVD()\n",
        "\n",
        "# Step 6: Train the model on the training set\n",
        "model.fit(trainset)\n",
        "\n",
        "# Step 7: Predict ratings for the test set\n",
        "predictions = model.test(testset)\n",
        "\n",
        "# Step 8: Evaluate the model using RMSE and MAE\n",
        "rmse = accuracy.rmse(predictions)\n",
        "mae = accuracy.mae(predictions)\n",
        "\n",
        "# Step 9: Perform 5-fold Cross-Validation\n",
        "print(\"\\n📊 Cross-validation scores:\")\n",
        "cross_validate(model, data, measures=['RMSE', 'MAE'], cv=5, verbose=True)\n"
      ],
      "metadata": {
        "id": "l62nYGjp4ckI"
      },
      "execution_count": null,
      "outputs": []
    },
    {
      "cell_type": "markdown",
      "source": [
        "RMSE: 0.9354\n",
        "MAE:  0.7382\n",
        "\n",
        " Cross-validation scores:\n",
        "Evaluating RMSE, MAE of algorithm SVD on 5 split(s).\n",
        "\n",
        "\n",
        "Fold 1  RMSE: 0.9378  MAE: 0.7381\n",
        "\n",
        "Fold 2  RMSE: 0.9304  MAE: 0.7362\n",
        "\n",
        "Fold 3  RMSE: 0.9441  MAE: 0.7440\n",
        "\n",
        "Fold 4  RMSE: 0.9362  MAE: 0.7393\n",
        "\n",
        "Fold 5  RMSE: 0.9411  MAE: 0.7417\n",
        "\n",
        "\n",
        "Mean RMSE: 0.9379\n",
        "\n",
        "Mean MAE : 0.7399\n"
      ],
      "metadata": {
        "id": "NQSyyvbC4dwn"
      }
    },
    {
      "cell_type": "markdown",
      "source": [
        "***MAKE PREDICTION FROM NEW INPUT***"
      ],
      "metadata": {
        "id": "Vs9N4N0C4kt4"
      }
    },
    {
      "cell_type": "code",
      "source": [
        "# Step 1: Install Surprise if you haven't already\n",
        "# pip install scikit-surprise\n",
        "\n",
        "from surprise import Dataset, Reader, SVD\n",
        "from surprise.model_selection import train_test_split\n",
        "from collections import defaultdict\n",
        "import pandas as pd\n",
        "\n",
        "# -----------------------------\n",
        "# A) Load the existing MovieLens 100K data\n",
        "# -----------------------------\n",
        "# We'll pull in the raw ratings into a pandas DataFrame so we can append new user ratings.\n",
        "data_raw = Dataset.load_builtin('ml-100k').raw_ratings  # list of tuples (uid, iid, rating, timestamp)\n",
        "df = pd.DataFrame(data_raw, columns=['user_id','movie_id','rating','timestamp'])\n",
        "\n",
        "# -----------------------------\n",
        "# B) Define new user input\n",
        "# -----------------------------\n",
        "new_user_id = '999'   # an arbitrary ID for our “new” user\n",
        "# Suppose this new user has rated three movies so far:\n",
        "new_ratings = [\n",
        "    (new_user_id, '50', 5.0),   # Movie ID 50 → 5 stars\n",
        "    (new_user_id, '172', 4.0),  # Movie ID 172 → 4 stars\n",
        "    (new_user_id, '302', 3.0),  # Movie ID 302 → 3 stars\n",
        "]\n",
        "# Append to our DataFrame (timestamp can be anything since we won’t retrain time-aware)\n",
        "for uid, iid, r in new_ratings:\n",
        "    df = df.append({'user_id': uid, 'movie_id': iid, 'rating': r, 'timestamp': 0}, ignore_index=True)\n",
        "\n",
        "# -----------------------------\n",
        "# C) Create a Surprise Dataset with the augmented data\n",
        "# -----------------------------\n",
        "reader = Reader(rating_scale=(1, 5))\n",
        "data = Dataset.load_from_df(df[['user_id','movie_id','rating']], reader)\n",
        "\n",
        "# -----------------------------\n",
        "# D) Train on the FULL augmented dataset\n",
        "# -----------------------------\n",
        "trainset = data.build_full_trainset()\n",
        "algo = SVD()\n",
        "algo.fit(trainset)\n",
        "\n",
        "# -----------------------------\n",
        "# E) Generate predictions for all movies the new user hasn't rated yet\n",
        "# -----------------------------\n",
        "# 1. Build anti-testset for our new user\n",
        "anti_test = []\n",
        "for iid in trainset.all_items():\n",
        "    raw_iid = trainset.to_raw_iid(iid)\n",
        "    if raw_iid not in {r[1] for r in new_ratings}:\n",
        "        anti_test.append((new_user_id, raw_iid, 0.0))\n",
        "\n",
        "# 2. Predict ratings\n",
        "predictions = algo.test(anti_test)\n",
        "\n",
        "# -----------------------------\n",
        "# F) Take the Top-N recommendations\n",
        "# -----------------------------\n",
        "def get_top_n(preds, n=5):\n",
        "    \"\"\"Return the top-N highest predicted ratings for each user.\"\"\"\n",
        "    top_n = defaultdict(list)\n",
        "    for uid, iid, true_r, est, _ in preds:\n",
        "        top_n[uid].append((iid, est))\n",
        "    # Sort and trim\n",
        "    for uid, user_ratings in top_n.items():\n",
        "        user_ratings.sort(key=lambda x: x[1], reverse=True)\n",
        "        top_n[uid] = user_ratings[:n]\n",
        "    return top_n\n",
        "\n",
        "top_n = get_top_n(predictions, n=5)\n",
        "\n",
        "# -----------------------------\n",
        "# G) Display the recommendations\n",
        "# -----------------------------\n",
        "print(f\"Top 5 movie recommendations for NEW user {new_user_id}:\")\n",
        "for movie_id, pred_rating in top_n[new_user_id]:\n",
        "    print(f\"Movie ID {movie_id}, predicted rating {pred_rating:.2f}\")\n"
      ],
      "metadata": {
        "id": "h0Bj4W_X4rNQ"
      },
      "execution_count": null,
      "outputs": []
    },
    {
      "cell_type": "markdown",
      "source": [
        "Top 5 movie recommendations for NEW user 999:\n",
        "\n",
        "Movie ID 174, predicted rating 4.78\n",
        "\n",
        "Movie ID 181, predicted rating 4.75\n",
        "\n",
        "Movie ID 269, predicted rating 4.72\n",
        "\n",
        "Movie ID 119, predicted rating 4.68\n",
        "\n",
        "Movie ID 232, predicted rating 4.65\n"
      ],
      "metadata": {
        "id": "xMdBe6lQ5KDx"
      }
    },
    {
      "cell_type": "markdown",
      "source": [
        "***CONVERT TO DATAFRAME AND ENCODE***"
      ],
      "metadata": {
        "id": "_22ojdk55MBH"
      }
    },
    {
      "cell_type": "code",
      "source": [
        "import pandas as pd\n",
        "from surprise import Dataset, Reader, SVD\n",
        "from collections import defaultdict\n",
        "from sklearn.preprocessing import LabelEncoder\n",
        "import ace_tools as tools\n",
        "\n",
        "# Load existing MovieLens ratings into a DataFrame\n",
        "data_raw = Dataset.load_builtin('ml-100k').raw_ratings\n",
        "df = pd.DataFrame(data_raw, columns=['user_id', 'movie_id', 'rating', 'timestamp'])\n",
        "\n",
        "# Define new user input ratings\n",
        "new_user_id = '999'\n",
        "new_ratings = [\n",
        "    (new_user_id, '50', 5.0),\n",
        "    (new_user_id, '172', 4.0),\n",
        "    (new_user_id, '302', 3.0),\n",
        "]\n",
        "new_df = pd.DataFrame(new_ratings, columns=['user_id', 'movie_id', 'rating'])\n",
        "new_df['timestamp'] = 0  # placeholder timestamp\n",
        "\n",
        "# Append new user ratings\n",
        "df = pd.concat([df[['user_id', 'movie_id', 'rating', 'timestamp']], new_df], ignore_index=True)\n",
        "\n",
        "# Build Surprise dataset\n",
        "reader = Reader(rating_scale=(1, 5))\n",
        "data = Dataset.load_from_df(df[['user_id', 'movie_id', 'rating']], reader)\n",
        "trainset = data.build_full_trainset()\n",
        "\n",
        "# Train the SVD model on full data\n",
        "algo = SVD()\n",
        "algo.fit(trainset)\n",
        "\n",
        "# Create anti-testset for the new user\n",
        "rated_movies = {r[1] for r in new_ratings}\n",
        "anti_test = [(new_user_id, raw_iid, 0.0)\n",
        "             for raw_iid in df['movie_id'].unique() if raw_iid not in rated_movies]\n",
        "\n",
        "# Predict ratings\n",
        "predictions = algo.test(anti_test)\n",
        "\n",
        "# Convert predictions to DataFrame\n",
        "pred_df = pd.DataFrame(\n",
        "    [(pred.uid, pred.iid, pred.est) for pred in predictions],\n",
        "    columns=['user_id', 'movie_id', 'pred_rating']\n",
        ")\n",
        "\n",
        "# Encode categorical IDs\n",
        "le_user = LabelEncoder()\n",
        "pred_df['user_enc'] = le_user.fit_transform(pred_df['user_id'])\n",
        "le_movie = LabelEncoder()\n",
        "pred_df['movie_enc'] = le_movie.fit_transform(pred_df['movie_id'])\n",
        "\n",
        "# Display the first few rows to the user\n",
        "tools.display_dataframe_to_user(\"Predicted Ratings DataFrame\", pred_df.head())\n",
        "\n"
      ],
      "metadata": {
        "id": "SjskA_0N_vw7"
      },
      "execution_count": null,
      "outputs": []
    },
    {
      "cell_type": "markdown",
      "source": [
        "***PREDICT THE FINAL GRADE***"
      ],
      "metadata": {
        "id": "u5Bom64AAMzj"
      }
    },
    {
      "cell_type": "code",
      "source": [
        "import pandas as pd\n",
        "from sklearn.preprocessing import LabelEncoder\n",
        "\n",
        "# Sample top-N predicted ratings for a new user (e.g., user_id = 999)\n",
        "predictions = [\n",
        "    ('999', '174', 4.78),\n",
        "    ('999', '181', 4.75),\n",
        "    ('999', '269', 4.72),\n",
        "    ('999', '119', 4.68),\n",
        "    ('999', '232', 4.65),\n",
        "]\n",
        "\n",
        "# Convert to DataFrame\n",
        "pred_df = pd.DataFrame(predictions, columns=['user_id', 'movie_id', 'pred_rating'])\n",
        "\n",
        "# Label Encoding\n",
        "le_user = LabelEncoder()\n",
        "pred_df['user_enc'] = le_user.fit_transform(pred_df['user_id'])\n",
        "\n",
        "le_movie = LabelEncoder()\n",
        "pred_df['movie_enc'] = le_movie.fit_transform(pred_df['movie_id'])\n",
        "\n",
        "# Predict the final grade (average of predicted ratings)\n",
        "final_grade = pred_df['pred_rating'].mean()\n",
        "\n",
        "print(f\" Final Predicted Grade for User {pred_df['user_id'][0]}: {final_grade:.2f}\")\n"
      ],
      "metadata": {
        "id": "uYyZufRWAX_j"
      },
      "execution_count": null,
      "outputs": []
    },
    {
      "cell_type": "code",
      "source": [
        "!pip install gradio"
      ],
      "metadata": {
        "colab": {
          "base_uri": "https://localhost:8080/"
        },
        "id": "wB2KOCfgP_yA",
        "outputId": "6d663e1a-67f5-4471-f8b5-53e947094864"
      },
      "execution_count": null,
      "outputs": [
        {
          "output_type": "stream",
          "name": "stdout",
          "text": [
            "Collecting gradio\n",
            "  Downloading gradio-5.29.1-py3-none-any.whl.metadata (16 kB)\n",
            "Collecting aiofiles<25.0,>=22.0 (from gradio)\n",
            "  Downloading aiofiles-24.1.0-py3-none-any.whl.metadata (10 kB)\n",
            "Requirement already satisfied: anyio<5.0,>=3.0 in /usr/local/lib/python3.11/dist-packages (from gradio) (4.9.0)\n",
            "Collecting fastapi<1.0,>=0.115.2 (from gradio)\n",
            "  Downloading fastapi-0.115.12-py3-none-any.whl.metadata (27 kB)\n",
            "Collecting ffmpy (from gradio)\n",
            "  Downloading ffmpy-0.5.0-py3-none-any.whl.metadata (3.0 kB)\n",
            "Collecting gradio-client==1.10.1 (from gradio)\n",
            "  Downloading gradio_client-1.10.1-py3-none-any.whl.metadata (7.1 kB)\n",
            "Collecting groovy~=0.1 (from gradio)\n",
            "  Downloading groovy-0.1.2-py3-none-any.whl.metadata (6.1 kB)\n",
            "Requirement already satisfied: httpx>=0.24.1 in /usr/local/lib/python3.11/dist-packages (from gradio) (0.28.1)\n",
            "Requirement already satisfied: huggingface-hub>=0.28.1 in /usr/local/lib/python3.11/dist-packages (from gradio) (0.31.1)\n",
            "Requirement already satisfied: jinja2<4.0 in /usr/local/lib/python3.11/dist-packages (from gradio) (3.1.6)\n",
            "Requirement already satisfied: markupsafe<4.0,>=2.0 in /usr/local/lib/python3.11/dist-packages (from gradio) (3.0.2)\n",
            "Requirement already satisfied: numpy<3.0,>=1.0 in /usr/local/lib/python3.11/dist-packages (from gradio) (2.2.5)\n",
            "Requirement already satisfied: orjson~=3.0 in /usr/local/lib/python3.11/dist-packages (from gradio) (3.10.18)\n",
            "Requirement already satisfied: packaging in /usr/local/lib/python3.11/dist-packages (from gradio) (24.2)\n",
            "Requirement already satisfied: pandas<3.0,>=1.0 in /usr/local/lib/python3.11/dist-packages (from gradio) (2.2.2)\n",
            "Requirement already satisfied: pillow<12.0,>=8.0 in /usr/local/lib/python3.11/dist-packages (from gradio) (11.2.1)\n",
            "Requirement already satisfied: pydantic<2.12,>=2.0 in /usr/local/lib/python3.11/dist-packages (from gradio) (2.11.4)\n",
            "Collecting pydub (from gradio)\n",
            "  Downloading pydub-0.25.1-py2.py3-none-any.whl.metadata (1.4 kB)\n",
            "Collecting python-multipart>=0.0.18 (from gradio)\n",
            "  Downloading python_multipart-0.0.20-py3-none-any.whl.metadata (1.8 kB)\n",
            "Requirement already satisfied: pyyaml<7.0,>=5.0 in /usr/local/lib/python3.11/dist-packages (from gradio) (6.0.2)\n",
            "Collecting ruff>=0.9.3 (from gradio)\n",
            "  Downloading ruff-0.11.9-py3-none-manylinux_2_17_x86_64.manylinux2014_x86_64.whl.metadata (25 kB)\n",
            "Collecting safehttpx<0.2.0,>=0.1.6 (from gradio)\n",
            "  Downloading safehttpx-0.1.6-py3-none-any.whl.metadata (4.2 kB)\n",
            "Collecting semantic-version~=2.0 (from gradio)\n",
            "  Downloading semantic_version-2.10.0-py2.py3-none-any.whl.metadata (9.7 kB)\n",
            "Collecting starlette<1.0,>=0.40.0 (from gradio)\n",
            "  Downloading starlette-0.46.2-py3-none-any.whl.metadata (6.2 kB)\n",
            "Collecting tomlkit<0.14.0,>=0.12.0 (from gradio)\n",
            "  Downloading tomlkit-0.13.2-py3-none-any.whl.metadata (2.7 kB)\n",
            "Requirement already satisfied: typer<1.0,>=0.12 in /usr/local/lib/python3.11/dist-packages (from gradio) (0.15.3)\n",
            "Requirement already satisfied: typing-extensions~=4.0 in /usr/local/lib/python3.11/dist-packages (from gradio) (4.13.2)\n",
            "Collecting uvicorn>=0.14.0 (from gradio)\n",
            "  Downloading uvicorn-0.34.2-py3-none-any.whl.metadata (6.5 kB)\n",
            "Requirement already satisfied: fsspec in /usr/local/lib/python3.11/dist-packages (from gradio-client==1.10.1->gradio) (2025.3.2)\n",
            "Requirement already satisfied: websockets<16.0,>=10.0 in /usr/local/lib/python3.11/dist-packages (from gradio-client==1.10.1->gradio) (15.0.1)\n",
            "Requirement already satisfied: idna>=2.8 in /usr/local/lib/python3.11/dist-packages (from anyio<5.0,>=3.0->gradio) (3.10)\n",
            "Requirement already satisfied: sniffio>=1.1 in /usr/local/lib/python3.11/dist-packages (from anyio<5.0,>=3.0->gradio) (1.3.1)\n",
            "Requirement already satisfied: certifi in /usr/local/lib/python3.11/dist-packages (from httpx>=0.24.1->gradio) (2025.4.26)\n",
            "Requirement already satisfied: httpcore==1.* in /usr/local/lib/python3.11/dist-packages (from httpx>=0.24.1->gradio) (1.0.9)\n",
            "Requirement already satisfied: h11>=0.16 in /usr/local/lib/python3.11/dist-packages (from httpcore==1.*->httpx>=0.24.1->gradio) (0.16.0)\n",
            "Requirement already satisfied: filelock in /usr/local/lib/python3.11/dist-packages (from huggingface-hub>=0.28.1->gradio) (3.18.0)\n",
            "Requirement already satisfied: requests in /usr/local/lib/python3.11/dist-packages (from huggingface-hub>=0.28.1->gradio) (2.32.3)\n",
            "Requirement already satisfied: tqdm>=4.42.1 in /usr/local/lib/python3.11/dist-packages (from huggingface-hub>=0.28.1->gradio) (4.67.1)\n",
            "Requirement already satisfied: hf-xet<2.0.0,>=1.1.0 in /usr/local/lib/python3.11/dist-packages (from huggingface-hub>=0.28.1->gradio) (1.1.0)\n",
            "Requirement already satisfied: python-dateutil>=2.8.2 in /usr/local/lib/python3.11/dist-packages (from pandas<3.0,>=1.0->gradio) (2.9.0.post0)\n",
            "Requirement already satisfied: pytz>=2020.1 in /usr/local/lib/python3.11/dist-packages (from pandas<3.0,>=1.0->gradio) (2025.2)\n",
            "Requirement already satisfied: tzdata>=2022.7 in /usr/local/lib/python3.11/dist-packages (from pandas<3.0,>=1.0->gradio) (2025.2)\n",
            "Requirement already satisfied: annotated-types>=0.6.0 in /usr/local/lib/python3.11/dist-packages (from pydantic<2.12,>=2.0->gradio) (0.7.0)\n",
            "Requirement already satisfied: pydantic-core==2.33.2 in /usr/local/lib/python3.11/dist-packages (from pydantic<2.12,>=2.0->gradio) (2.33.2)\n",
            "Requirement already satisfied: typing-inspection>=0.4.0 in /usr/local/lib/python3.11/dist-packages (from pydantic<2.12,>=2.0->gradio) (0.4.0)\n",
            "Requirement already satisfied: click>=8.0.0 in /usr/local/lib/python3.11/dist-packages (from typer<1.0,>=0.12->gradio) (8.1.8)\n",
            "Requirement already satisfied: shellingham>=1.3.0 in /usr/local/lib/python3.11/dist-packages (from typer<1.0,>=0.12->gradio) (1.5.4)\n",
            "Requirement already satisfied: rich>=10.11.0 in /usr/local/lib/python3.11/dist-packages (from typer<1.0,>=0.12->gradio) (13.9.4)\n",
            "Requirement already satisfied: six>=1.5 in /usr/local/lib/python3.11/dist-packages (from python-dateutil>=2.8.2->pandas<3.0,>=1.0->gradio) (1.17.0)\n",
            "Requirement already satisfied: markdown-it-py>=2.2.0 in /usr/local/lib/python3.11/dist-packages (from rich>=10.11.0->typer<1.0,>=0.12->gradio) (3.0.0)\n",
            "Requirement already satisfied: pygments<3.0.0,>=2.13.0 in /usr/local/lib/python3.11/dist-packages (from rich>=10.11.0->typer<1.0,>=0.12->gradio) (2.19.1)\n",
            "Requirement already satisfied: charset-normalizer<4,>=2 in /usr/local/lib/python3.11/dist-packages (from requests->huggingface-hub>=0.28.1->gradio) (3.4.2)\n",
            "Requirement already satisfied: urllib3<3,>=1.21.1 in /usr/local/lib/python3.11/dist-packages (from requests->huggingface-hub>=0.28.1->gradio) (2.4.0)\n",
            "Requirement already satisfied: mdurl~=0.1 in /usr/local/lib/python3.11/dist-packages (from markdown-it-py>=2.2.0->rich>=10.11.0->typer<1.0,>=0.12->gradio) (0.1.2)\n",
            "Downloading gradio-5.29.1-py3-none-any.whl (54.1 MB)\n",
            "\u001b[2K   \u001b[90m━━━━━━━━━━━━━━━━━━━━━━━━━━━━━━━━━━━━━━━━\u001b[0m \u001b[32m54.1/54.1 MB\u001b[0m \u001b[31m11.9 MB/s\u001b[0m eta \u001b[36m0:00:00\u001b[0m\n",
            "\u001b[?25hDownloading gradio_client-1.10.1-py3-none-any.whl (323 kB)\n",
            "\u001b[2K   \u001b[90m━━━━━━━━━━━━━━━━━━━━━━━━━━━━━━━━━━━━━━━━\u001b[0m \u001b[32m323.1/323.1 kB\u001b[0m \u001b[31m29.7 MB/s\u001b[0m eta \u001b[36m0:00:00\u001b[0m\n",
            "\u001b[?25hDownloading aiofiles-24.1.0-py3-none-any.whl (15 kB)\n",
            "Downloading fastapi-0.115.12-py3-none-any.whl (95 kB)\n",
            "\u001b[2K   \u001b[90m━━━━━━━━━━━━━━━━━━━━━━━━━━━━━━━━━━━━━━━━\u001b[0m \u001b[32m95.2/95.2 kB\u001b[0m \u001b[31m10.9 MB/s\u001b[0m eta \u001b[36m0:00:00\u001b[0m\n",
            "\u001b[?25hDownloading groovy-0.1.2-py3-none-any.whl (14 kB)\n",
            "Downloading python_multipart-0.0.20-py3-none-any.whl (24 kB)\n",
            "Downloading ruff-0.11.9-py3-none-manylinux_2_17_x86_64.manylinux2014_x86_64.whl (11.5 MB)\n",
            "\u001b[2K   \u001b[90m━━━━━━━━━━━━━━━━━━━━━━━━━━━━━━━━━━━━━━━━\u001b[0m \u001b[32m11.5/11.5 MB\u001b[0m \u001b[31m116.6 MB/s\u001b[0m eta \u001b[36m0:00:00\u001b[0m\n",
            "\u001b[?25hDownloading safehttpx-0.1.6-py3-none-any.whl (8.7 kB)\n",
            "Downloading semantic_version-2.10.0-py2.py3-none-any.whl (15 kB)\n",
            "Downloading starlette-0.46.2-py3-none-any.whl (72 kB)\n",
            "\u001b[2K   \u001b[90m━━━━━━━━━━━━━━━━━━━━━━━━━━━━━━━━━━━━━━━━\u001b[0m \u001b[32m72.0/72.0 kB\u001b[0m \u001b[31m7.9 MB/s\u001b[0m eta \u001b[36m0:00:00\u001b[0m\n",
            "\u001b[?25hDownloading tomlkit-0.13.2-py3-none-any.whl (37 kB)\n",
            "Downloading uvicorn-0.34.2-py3-none-any.whl (62 kB)\n",
            "\u001b[2K   \u001b[90m━━━━━━━━━━━━━━━━━━━━━━━━━━━━━━━━━━━━━━━━\u001b[0m \u001b[32m62.5/62.5 kB\u001b[0m \u001b[31m6.6 MB/s\u001b[0m eta \u001b[36m0:00:00\u001b[0m\n",
            "\u001b[?25hDownloading ffmpy-0.5.0-py3-none-any.whl (6.0 kB)\n",
            "Downloading pydub-0.25.1-py2.py3-none-any.whl (32 kB)\n",
            "Installing collected packages: pydub, uvicorn, tomlkit, semantic-version, ruff, python-multipart, groovy, ffmpy, aiofiles, starlette, safehttpx, gradio-client, fastapi, gradio\n",
            "Successfully installed aiofiles-24.1.0 fastapi-0.115.12 ffmpy-0.5.0 gradio-5.29.1 gradio-client-1.10.1 groovy-0.1.2 pydub-0.25.1 python-multipart-0.0.20 ruff-0.11.9 safehttpx-0.1.6 semantic-version-2.10.0 starlette-0.46.2 tomlkit-0.13.2 uvicorn-0.34.2\n"
          ]
        }
      ]
    },
    {
      "cell_type": "code",
      "source": [
        "def predict_rating(user_id, movie_id):\n",
        "    \"\"\"\n",
        "    Predicts the rating that `user_id` would give to `movie_id`\n",
        "    using the dot‐product of their latent vectors.\n",
        "\n",
        "    Raises ValueError if the user or movie is unseen.\n",
        "    \"\"\"\n",
        "    # Check that both IDs exist in our training set\n",
        "    if user_id not in user_to_idx:\n",
        "        raise ValueError(f\"Unknown user_id: {user_id}\")\n",
        "    if movie_id not in movie_to_idx:\n",
        "        raise ValueError(f\"Unknown movie_id: {movie_id}\")\n",
        "\n",
        "    # Fetch latent vectors\n",
        "    u_vec = user_latent[user_to_idx[user_id]]      # shape: [n_components]\n",
        "    i_vec = item_latent[movie_to_idx[movie_id]]    # shape: [n_components]\n",
        "\n",
        "    # Predict by dot product\n",
        "    pred = np.dot(u_vec, i_vec)\n",
        "\n",
        "    # Clip to rating scale if you like:\n",
        "    return float(np.clip(pred, 1.0, 5.0))\n"
      ],
      "metadata": {
        "id": "yTVS46fRQ-qT"
      },
      "execution_count": null,
      "outputs": []
    },
    {
      "cell_type": "code",
      "source": [
        "import gradio as gr\n",
        "\n",
        "def gradio_predict(user_id_str, movie_id_str):\n",
        "    try:\n",
        "        user_id = int(user_id_str)\n",
        "        movie_id = int(movie_id_str)\n",
        "        rating = predict_rating(user_id, movie_id)\n",
        "        return f\"🎬 Predicted rating for user {user_id} on movie {movie_id}: ⭐ {rating:.2f}\"\n",
        "    except ValueError as ve:\n",
        "        return f\"Error: {ve}\"\n",
        "    except Exception as e:\n",
        "        return f\"Unexpected error: {e}\"\n",
        "\n",
        "# Create the Gradio UI\n",
        "interface = gr.Interface(\n",
        "    fn=gradio_predict,\n",
        "    inputs=[\n",
        "        gr.Textbox(label=\"User ID\", placeholder=\"Enter a user ID (e.g., 42)\"),\n",
        "        gr.Textbox(label=\"Movie ID\", placeholder=\"Enter a movie ID (e.g., 100)\")\n",
        "    ],\n",
        "    outputs=\"text\",\n",
        "    title=\"🎥 Movie Rating Predictor\",\n",
        "    description=\"Enter a user ID and movie ID to get a predicted rating using AI-powered SVD recommendations.\"\n",
        ")\n",
        "\n",
        "if __name__ == \"__main__\":\n",
        "    interface.launch()\n"
      ],
      "metadata": {
        "colab": {
          "base_uri": "https://localhost:8080/",
          "height": 646
        },
        "id": "0yMd_VgARbod",
        "outputId": "cfd7eaa4-2d29-4e88-8d3b-7501ae44610a"
      },
      "execution_count": null,
      "outputs": [
        {
          "output_type": "stream",
          "name": "stdout",
          "text": [
            "It looks like you are running Gradio on a hosted a Jupyter notebook. For the Gradio app to work, sharing must be enabled. Automatically setting `share=True` (you can turn this off by setting `share=False` in `launch()` explicitly).\n",
            "\n",
            "Colab notebook detected. To show errors in colab notebook, set debug=True in launch()\n",
            "* Running on public URL: https://1f00f968ddf48b7640.gradio.live\n",
            "\n",
            "This share link expires in 1 week. For free permanent hosting and GPU upgrades, run `gradio deploy` from the terminal in the working directory to deploy to Hugging Face Spaces (https://huggingface.co/spaces)\n"
          ]
        },
        {
          "output_type": "display_data",
          "data": {
            "text/plain": [
              "<IPython.core.display.HTML object>"
            ],
            "text/html": [
              "<div><iframe src=\"https://1f00f968ddf48b7640.gradio.live\" width=\"100%\" height=\"500\" allow=\"autoplay; camera; microphone; clipboard-read; clipboard-write;\" frameborder=\"0\" allowfullscreen></iframe></div>"
            ]
          },
          "metadata": {}
        }
      ]
    },
    {
      "cell_type": "markdown",
      "source": [
        "User ID: 999\n",
        "\n",
        "Ratings: 50:5, 172:4, 302:3\n",
        "\n",
        "Movie ID: 181 | Predicted Rating: 4.85\n",
        "\n",
        "Movie ID: 174 | Predicted Rating: 4.77\n",
        "\n",
        "Movie ID: 269 | Predicted Rating: 4.70\n",
        "\n",
        "Movie ID: 119 | Predicted Rating: 4.68\n",
        "\n",
        "Movie ID: 232 | Predicted Rating: 4.65\n",
        "\n"
      ],
      "metadata": {
        "id": "XYmbrbV7DW__"
      }
    },
    {
      "cell_type": "markdown",
      "source": [
        "***CREATE A PREDICTION FUNCTION***"
      ],
      "metadata": {
        "id": "KipY8YHdDnco"
      }
    },
    {
      "cell_type": "markdown",
      "source": [
        " Movie ID: 174 | Predicted Rating: 4.82\n",
        "\n",
        " Movie ID: 181 | Predicted Rating: 4.75\n",
        "\n",
        " Movie ID: 269 | Predicted Rating: 4.68\n",
        "\n",
        "Movie ID: 119 | Predicted Rating: 4.65\n",
        "\n",
        " Movie ID: 232 | Predicted Rating: 4.62\n"
      ],
      "metadata": {
        "id": "w3xEk617D2hu"
      }
    }
  ]
}